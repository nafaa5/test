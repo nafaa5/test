{
  "nbformat": 4,
  "nbformat_minor": 0,
  "metadata": {
    "colab": {
      "provenance": [],
      "authorship_tag": "ABX9TyPC3jvY2jEe+AOgn/uRBq+t",
      "include_colab_link": true
    },
    "kernelspec": {
      "name": "python3",
      "display_name": "Python 3"
    },
    "language_info": {
      "name": "python"
    }
  },
  "cells": [
    {
      "cell_type": "markdown",
      "metadata": {
        "id": "view-in-github",
        "colab_type": "text"
      },
      "source": [
        "<a href=\"https://colab.research.google.com/github/nafaa5/text-to-speech-Voice-RSS-/blob/main/text_to_speech_voice_rss.ipynb\" target=\"_parent\"><img src=\"https://colab.research.google.com/assets/colab-badge.svg\" alt=\"Open In Colab\"/></a>"
      ]
    },
    {
      "cell_type": "markdown",
      "source": [
        "# **Text to speech (API Voice RSS)**"
      ],
      "metadata": {
        "id": "vl7KNIuMSjRI"
      }
    },
    {
      "cell_type": "markdown",
      "source": [
        "**Objectif du Code**\n",
        "L'objectif de ce code est de créer un système de diagnostic audio qui génère des fichiers audio à partir de texte en utilisant l'API VoiceRSS. Le code comprend plusieurs étapes clés :\n",
        "\n",
        "**Configuration et Initialisation** :\n",
        "\n",
        "Importation des bibliothèques nécessaires (os, requests, logging, IPython.display, time).\n",
        "Configuration du système de logging pour enregistrer les messages de diagnostic.\n",
        "Définition de la classe AudioDiagnostic qui contient les méthodes pour gérer les fichiers audio.\n",
        "\n",
        "**Vérification et Création du Dossier de Sauvegarde** :\n",
        "\n",
        "La méthode verifier_dossier vérifie l'existence du dossier de sauvegarde des fichiers audio et le crée s'il n'existe pas. Elle enregistre également les permissions du dossier.\n",
        "\n",
        "**Génération de Fichiers Audio:**\n",
        "\n",
        "\n",
        "La méthode generer_audio envoie une requête à l'API VoiceRSS pour convertir le texte en fichier audio. Elle enregistre le fichier audio généré dans le dossier spécifié et vérifie la taille du fichier.\n",
        "\n",
        "**Recherche de Fichiers Audio** :\n",
        "\n",
        "La méthode rechercher_fichiers effectue une recherche exhaustive des fichiers audio dans le répertoire actuel et ses sous-répertoires, en enregistrant les chemins complets des fichiers trouvés.\n",
        "\n",
        "**Fonction Principale** :\n",
        "\n",
        "La fonction main crée une instance de la classe AudioDiagnostic, vérifie le dossier de sauvegarde, génère un fichier audio et recherche les fichiers audio.\n",
        "\n",
        "**Lecture Automatique du Fichier Audio** :\n",
        "\n",
        "Le fichier MP3 généré est automatiquement lu en utilisant le module IPython.display.\n",
        "\n",
        "Ce code est utile pour les applications nécessitant la génération et la gestion de fichiers audio à partir de texte, comme les systèmes de diagnostic pour les troubles de la lecture ou les outils d'apprentissage des langues.\n",
        "\n",
        "\n",
        "\n"
      ],
      "metadata": {
        "id": "OrXwPWgDRlUC"
      }
    },
    {
      "cell_type": "code",
      "execution_count": 26,
      "metadata": {
        "colab": {
          "base_uri": "https://localhost:8080/",
          "height": 75
        },
        "id": "L0fZAo8xzTmJ",
        "outputId": "38ae8b86-7371-4522-f4f3-f00799ed4aa0"
      },
      "outputs": [
        {
          "output_type": "display_data",
          "data": {
            "text/plain": [
              "<IPython.lib.display.Audio object>"
            ],
            "text/html": [
              "\n",
              "                <audio  controls=\"controls\" autoplay=\"autoplay\">\n",
              "                    <source src=\"data:audio/mpeg;base64,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\" type=\"audio/mpeg\" />\n",
              "                    Your browser does not support the audio element.\n",
              "                </audio>\n",
              "              "
            ]
          },
          "metadata": {}
        }
      ],
      "source": [
        "import os\n",
        "import requests\n",
        "import logging\n",
        "from IPython.display import Audio\n",
        "import time\n",
        "\n",
        "# Configuration du logging\n",
        "logging.basicConfig(level=logging.DEBUG)\n",
        "logger = logging.getLogger(__name__)\n",
        "\n",
        "class AudioDiagnostic:\n",
        "    def __init__(self):\n",
        "        # Dossier de sauvegarde des fichiers audio\n",
        "        self.audio_folder = os.path.join(os.getcwd(), 'dyslexia_audio')\n",
        "\n",
        "        # Clé API VoiceRSS (gratuite)\n",
        "        self.api_key = \"5bf8c2c04a7a4c8e81e9db973004529e\"  # Remplacez par votre clé\n",
        "\n",
        "    def verifier_dossier(self):\n",
        "        \"\"\"\n",
        "        Vérifie et crée le dossier de sauvegarde des fichiers audio\n",
        "        \"\"\"\n",
        "        try:\n",
        "            # Créer le dossier s'il n'existe pas\n",
        "            os.makedirs(self.audio_folder, exist_ok=True)\n",
        "\n",
        "            # Vérifier les permissions\n",
        "            logger.info(f\"Dossier de sauvegarde : {self.audio_folder}\")\n",
        "            logger.info(f\"Le dossier existe : {os.path.exists(self.audio_folder)}\")\n",
        "            logger.info(f\"Permissions du dossier : {oct(os.stat(self.audio_folder).st_mode)}\")\n",
        "\n",
        "        except Exception as e:\n",
        "            logger.error(f\"Erreur lors de la création du dossier : {e}\")\n",
        "\n",
        "    def generer_audio(self, texte=\"عسر القراءة هو اضطراب في التعلم يؤثر على القراءة والكتابة.\"):\n",
        "        \"\"\"\n",
        "        Génère un fichier audio avec diagnostic complet\n",
        "        \"\"\"\n",
        "        # Paramètres de l'API\n",
        "        params = {\n",
        "            'key': self.api_key,\n",
        "            'src': texte,\n",
        "            'hl': 'ar-sa',  # Français\n",
        "            'c': 'MP3',\n",
        "            'f': '16khz_16bit_mono'\n",
        "        }\n",
        "\n",
        "        try:\n",
        "            # Envoi de la requête\n",
        "            logger.info(\"Envoi de la requête à l'API\")\n",
        "            response = requests.get(\"https://api.voicerss.org/\", params=params)\n",
        "\n",
        "            # Vérification de la réponse\n",
        "            logger.info(f\"Statut de la réponse : {response.status_code}\")\n",
        "\n",
        "            if response.status_code == 200:\n",
        "                # Chemin complet du fichier\n",
        "                fichier_path = os.path.join(self.audio_folder, 'speech_output.mp3')\n",
        "\n",
        "                # Sauvegarde du fichier\n",
        "                with open(fichier_path, 'wb') as fichier:\n",
        "                    fichier.write(response.content)\n",
        "\n",
        "                # Vérification du fichier\n",
        "                logger.info(f\"Fichier sauvegardé : {fichier_path}\")\n",
        "                logger.info(f\"Taille du fichier : {os.path.getsize(fichier_path)} octets\")\n",
        "\n",
        "                return fichier_path\n",
        "\n",
        "            else:\n",
        "                logger.error(f\"Erreur API : {response.text}\")\n",
        "                return None\n",
        "\n",
        "        except Exception as e:\n",
        "            logger.error(f\"Erreur lors de la génération audio : {e}\")\n",
        "            return None\n",
        "\n",
        "    def rechercher_fichiers(self):\n",
        "        \"\"\"\n",
        "        Recherche exhaustive des fichiers audio\n",
        "        \"\"\"\n",
        "        logger.info(\"Recherche des fichiers audio...\")\n",
        "\n",
        "        # Recherche dans le répertoire actuel et ses sous-répertoires\n",
        "        for root, dirs, files in os.walk('.'):\n",
        "            for fichier in files:\n",
        "                if fichier.endswith('.mp3'):\n",
        "                    chemin_complet = os.path.abspath(os.path.join(root, fichier))\n",
        "                    logger.info(f\"Fichier MP3 trouvé : {chemin_complet}\")\n",
        "\n",
        "def main():\n",
        "    diagnostic = AudioDiagnostic()\n",
        "\n",
        "    # Vérification du dossier\n",
        "    diagnostic.verifier_dossier()\n",
        "\n",
        "    # Génération de l'audio\n",
        "    audio_path = diagnostic.generer_audio()\n",
        "\n",
        "    # Recherche des fichiers\n",
        "    diagnostic.rechercher_fichiers()\n",
        "\n",
        "if __name__ == \"__main__\":\n",
        "    main()\n",
        "\n",
        "from IPython.display import Audio\n",
        "\n",
        "# Path to the MP3 file (assumed that the MP3 file already exists)\n",
        "mp3_file_path = '/content/dyslexia_audio/speech_output.mp3'\n",
        "\n",
        "# Automatically play the MP3 file\n",
        "Audio(mp3_file_path)\n",
        "\n",
        "# Générer ou obtenir le fichier MP3 (exemple fictif pour un fichier déjà généré)\n",
        "mp3_file_path = '/content/dyslexia_audio/speech_output.mp3'\n",
        "\n",
        "# Jouer automatiquement l'audio\n",
        "audio = Audio(mp3_file_path, autoplay=True)\n",
        "\n",
        "# Afficher l'objet audio, cela devrait commencer la lecture immédiatement\n",
        "display(audio)"
      ]
    },
    {
      "cell_type": "code",
      "source": [],
      "metadata": {
        "id": "oLWynHeMRTdD"
      },
      "execution_count": 25,
      "outputs": []
    },
    {
      "cell_type": "code",
      "source": [
        "\n",
        "import os\n",
        "import requests\n",
        "import logging"
      ],
      "metadata": {
        "id": "TIQpaUELEi4_"
      },
      "execution_count": 5,
      "outputs": []
    },
    {
      "cell_type": "markdown",
      "source": [
        "**Explication**: Les bibliothèques nécessaires sont importées au début du script. Cela inclut os pour les opérations sur les fichiers et les dossiers, requests pour envoyer des requêtes HTTP à l'API VoiceRSS, et logging pour enregistrer les informations de diagnostic."
      ],
      "metadata": {
        "id": "vcgpgqRHNvAa"
      }
    },
    {
      "cell_type": "code",
      "source": [
        "# Configuration du logging\n",
        "logging.basicConfig(level=logging.DEBUG)\n",
        "logger = logging.getLogger(__name__)\n"
      ],
      "metadata": {
        "id": "d5PKHBjf0DjN"
      },
      "execution_count": 6,
      "outputs": []
    },
    {
      "cell_type": "markdown",
      "source": [
        "**Explication**: Le logging est configuré pour enregistrer les messages de diagnostic. Le niveau de logging est défini sur DEBUG pour capturer tous les messages."
      ],
      "metadata": {
        "id": "zOoMUJucN1LN"
      }
    },
    {
      "cell_type": "markdown",
      "source": [
        "**Définition de la classe AudioDiagnostic:**"
      ],
      "metadata": {
        "id": "gkthy_QiN5EO"
      }
    },
    {
      "cell_type": "code",
      "source": [
        "class AudioDiagnostic:\n",
        "    def __init__(self):\n",
        "        # Dossier de sauvegarde des fichiers audio\n",
        "        self.audio_folder = os.path.join(os.getcwd(), 'dyslexia_audio')\n",
        "\n",
        "        # Clé API VoiceRSS (gratuite)\n",
        "        self.api_key = \"5bf8c2c04a7a4c8e81e9db973004529e\"  # Remplacez par votre clé\n",
        ""
      ],
      "metadata": {
        "id": "d1wsqaNuNVrf"
      },
      "execution_count": 15,
      "outputs": []
    },
    {
      "cell_type": "markdown",
      "source": [
        "**Explication**: La classe AudioDiagnostic contient des méthodes pour générer des fichiers audio, vérifier le dossier de sauvegarde et rechercher des fichiers audio.\n"
      ],
      "metadata": {
        "id": "1QmsDhM_OAps"
      }
    },
    {
      "cell_type": "markdown",
      "source": [
        "**Méthode verifier_dossier:**"
      ],
      "metadata": {
        "id": "xktOB4NgODKh"
      }
    },
    {
      "cell_type": "code",
      "source": [
        "def verifier_dossier(self):\n",
        "        \"\"\"\n",
        "        Vérifie et crée le dossier de sauvegarde des fichiers audio\n",
        "        \"\"\"\n",
        "        try:\n",
        "            # Créer le dossier s'il n'existe pas\n",
        "            os.makedirs(self.audio_folder, exist_ok=True)\n",
        "\n",
        "            # Vérifier les permissions\n",
        "            logger.info(f\"Dossier de sauvegarde : {self.audio_folder}\")\n",
        "            logger.info(f\"Le dossier existe : {os.path.exists(self.audio_folder)}\")\n",
        "            logger.info(f\"Permissions du dossier : {oct(os.stat(self.audio_folder).st_mode)}\")\n",
        "\n",
        "        except Exception as e:\n",
        "            logger.error(f\"Erreur lors de la création du dossier : {e}\")\n"
      ],
      "metadata": {
        "id": "dpezG064OMyO"
      },
      "execution_count": 16,
      "outputs": []
    },
    {
      "cell_type": "markdown",
      "source": [
        "**Explication**: La méthode verifier_dossier vérifie et crée le dossier de sauvegarde des fichiers audio. Elle enregistre également les permissions du dossier."
      ],
      "metadata": {
        "id": "hcSmjtjXOOdY"
      }
    },
    {
      "cell_type": "markdown",
      "source": [
        "**Méthode generer_audio:**"
      ],
      "metadata": {
        "id": "KWTowGP6OPdH"
      }
    },
    {
      "cell_type": "code",
      "source": [
        "  def generer_audio(self, texte=\"عسر القراءة هو اضطراب في التعلم يؤثر على القراءة والكتابة.\"):\n",
        "        \"\"\"\n",
        "        Génère un fichier audio avec diagnostic complet\n",
        "        \"\"\"\n",
        "        # Paramètres de l'API\n",
        "        params = {\n",
        "            'key': self.api_key,\n",
        "            'src': texte,\n",
        "            'hl': 'ar-sa',  # Français\n",
        "            'c': 'MP3',\n",
        "            'f': '16khz_16bit_mono'\n",
        "        }\n",
        "\n",
        "        try:\n",
        "            # Envoi de la requête\n",
        "            logger.info(\"Envoi de la requête à l'API\")\n",
        "            response = requests.get(\"https://api.voicerss.org/\", params=params)\n",
        "\n",
        "            # Vérification de la réponse\n",
        "            logger.info(f\"Statut de la réponse : {response.status_code}\")\n",
        "\n",
        "            if response.status_code == 200:\n",
        "                # Chemin complet du fichier\n",
        "                fichier_path = os.path.join(self.audio_folder, 'speech_output.mp3')\n",
        "\n",
        "                # Sauvegarde du fichier\n",
        "                with open(fichier_path, 'wb') as fichier:\n",
        "                    fichier.write(response.content)\n",
        "\n",
        "                # Vérification du fichier\n",
        "                logger.info(f\"Fichier sauvegardé : {fichier_path}\")\n",
        "                logger.info(f\"Taille du fichier : {os.path.getsize(fichier_path)} octets\")\n",
        "\n",
        "                return fichier_path\n",
        "\n",
        "            else:\n",
        "                logger.error(f\"Erreur API : {response.text}\")\n",
        "                return None\n",
        "\n",
        "        except Exception as e:\n",
        "            logger.error(f\"Erreur lors de la génération audio : {e}\")\n",
        "            return None"
      ],
      "metadata": {
        "id": "U6AZ7Sw-OSPX"
      },
      "execution_count": 17,
      "outputs": []
    },
    {
      "cell_type": "markdown",
      "source": [
        "**Explication**: La méthode generer_audio génère un fichier audio à partir d'un texte donné en utilisant l'API VoiceRSS. Elle enregistre le fichier audio dans le dossier spécifié."
      ],
      "metadata": {
        "id": "Q0K3pKOHOa2p"
      }
    },
    {
      "cell_type": "markdown",
      "source": [
        "**Méthode rechercher_fichiers:**"
      ],
      "metadata": {
        "id": "LcXEJkbwOb-f"
      }
    },
    {
      "cell_type": "code",
      "source": [
        "def rechercher_fichiers(self):\n",
        "        \"\"\"\n",
        "        Recherche exhaustive des fichiers audio\n",
        "        \"\"\"\n",
        "        logger.info(\"Recherche des fichiers audio...\")\n",
        "\n",
        "        # Recherche dans le répertoire actuel et ses sous-répertoires\n",
        "        for root, dirs, files in os.walk('.'):\n",
        "            for fichier in files:\n",
        "                if fichier.endswith('.mp3'):\n",
        "                    chemin_complet = os.path.abspath(os.path.join(root, fichier))\n",
        "                    logger.info(f\"Fichier MP3 trouvé : {chemin_complet}\")\n",
        "\n"
      ],
      "metadata": {
        "id": "DdBJeWmrOXfz"
      },
      "execution_count": 21,
      "outputs": []
    },
    {
      "cell_type": "markdown",
      "source": [
        "**Explication**: La méthode rechercher_fichiers effectue une recherche exhaustive des fichiers audio dans le répertoire actuel et ses sous-répertoires."
      ],
      "metadata": {
        "id": "1xJEhmA6Omqm"
      }
    },
    {
      "cell_type": "markdown",
      "source": [
        "**Fonction principale main:**"
      ],
      "metadata": {
        "id": "udROCZnnOo5_"
      }
    },
    {
      "cell_type": "code",
      "source": [
        "def main():\n",
        "    diagnostic = AudioDiagnostic()\n",
        "\n",
        "    # Vérification du dossier\n",
        "    diagnostic.verifier_dossier()\n",
        "\n",
        "    # Génération de l'audio\n",
        "    audio_path = diagnostic.generer_audio()\n",
        "\n",
        "    # Recherche des fichiers\n",
        "    diagnostic.rechercher_fichiers()\n",
        "\n",
        "if __name__ == \"__main__\":\n",
        "    main()"
      ],
      "metadata": {
        "id": "XNP3U9AQQMHY"
      },
      "execution_count": null,
      "outputs": []
    },
    {
      "cell_type": "markdown",
      "source": [
        "**Explication**: La fonction main crée une instance de la classe AudioDiagnostic, vérifie le dossier de sauvegarde, génère un fichier audio et recherche les fichiers audio."
      ],
      "metadata": {
        "id": "ThHIGMtzOYJe"
      }
    },
    {
      "cell_type": "markdown",
      "source": [
        "**Lecture automatique du fichier MP3:**"
      ],
      "metadata": {
        "id": "jZUCcx3qOs7P"
      }
    },
    {
      "cell_type": "code",
      "source": [
        "from IPython.display import Audio\n",
        "\n",
        "# Path to the MP3 file (assumed that the MP3 file already exists)\n",
        "mp3_file_path = '/content/dyslexia_audio/speech_output.mp3'\n",
        "\n",
        "# Automatically play the MP3 file\n",
        "Audio(mp3_file_path)"
      ],
      "metadata": {
        "id": "CqLQKNe9OtLI"
      },
      "execution_count": null,
      "outputs": []
    },
    {
      "cell_type": "markdown",
      "source": [
        "**Explication**: Cette partie du code utilise le module IPython.display pour lire automatiquement le fichier MP3 généré."
      ],
      "metadata": {
        "id": "odkvvHR_O2XY"
      }
    },
    {
      "cell_type": "markdown",
      "source": [
        "**Lecture automatique**"
      ],
      "metadata": {
        "id": "bzJFg_m8Rffp"
      }
    },
    {
      "cell_type": "code",
      "source": [
        "from IPython.display import Audio\n",
        "import time\n",
        "\n",
        "# Générer ou obtenir le fichier MP3 (exemple fictif pour un fichier déjà généré)\n",
        "mp3_file_path = '/content/dyslexia_audio/speech_output.mp3'\n",
        "\n",
        "# Jouer automatiquement l'audio\n",
        "audio = Audio(mp3_file_path, autoplay=True)\n",
        "\n",
        "# Afficher l'objet audio, cela devrait commencer la lecture immédiatement\n",
        "display(audio)"
      ],
      "metadata": {
        "colab": {
          "base_uri": "https://localhost:8080/",
          "height": 75
        },
        "id": "OtSHjrsHRh7Z",
        "outputId": "d544290f-9a7d-401b-e26e-1d248e8352b4"
      },
      "execution_count": 27,
      "outputs": [
        {
          "output_type": "display_data",
          "data": {
            "text/plain": [
              "<IPython.lib.display.Audio object>"
            ],
            "text/html": [
              "\n",
              "                <audio  controls=\"controls\" autoplay=\"autoplay\">\n",
              "                    <source src=\"data:audio/mpeg;base64,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\" type=\"audio/mpeg\" />\n",
              "                    Your browser does not support the audio element.\n",
              "                </audio>\n",
              "              "
            ]
          },
          "metadata": {}
        }
      ]
    }
  ]
}